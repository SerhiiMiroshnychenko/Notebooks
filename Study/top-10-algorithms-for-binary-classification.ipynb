{
 "cells": [
  {
   "cell_type": "markdown",
   "metadata": {},
   "source": [
    "**Implement the 10 most important binary classification algorithms & check their performance**\n",
    "\n",
    "* Naive Bayes\n",
    "* Logistic Regression\n",
    "* K-Nearest Neighbours\n",
    "* Support Vector Machine\n",
    "* Decision Tree\n",
    "* Bagging Decision Tree (Ensemble Learning I)\n",
    "* Boosted Decision Tree (Ensemble Learning II)\n",
    "* Random Forest (Ensemble Learning III)\n",
    "* Voting Classification (Ensemble Learning IV)\n",
    "* Deep Learning with a neuronal network"
   ]
  },
  {
   "cell_type": "markdown",
   "metadata": {},
   "source": [
    "### Standard Libraries"
   ]
  },
  {
   "cell_type": "code",
   "execution_count": null,
   "metadata": {
    "_cell_guid": "b1076dfc-b9ad-4769-8c92-a6c4dae69d19",
    "_uuid": "8f2839f25d086af736a60e9eeb907d3b93b6e0e5",
    "execution": {
     "iopub.execute_input": "2023-04-12T02:25:50.323308Z",
     "iopub.status.busy": "2023-04-12T02:25:50.322859Z",
     "iopub.status.idle": "2023-04-12T02:25:50.330317Z",
     "shell.execute_reply": "2023-04-12T02:25:50.328743Z",
     "shell.execute_reply.started": "2023-04-12T02:25:50.323245Z"
    }
   },
   "outputs": [],
   "source": [
    "# standard libraries\n",
    "import numpy as np # linear algebra\n",
    "import pandas as pd # data processing, CSV file I/O (e.g. pd.read_csv)\n",
    "import os,warnings\n",
    "warnings.simplefilter('ignore')\n",
    "from sklearn.model_selection import train_test_split\n",
    "from tabulate import tabulate\n",
    "import datetime\n",
    "Table = []"
   ]
  },
  {
   "cell_type": "markdown",
   "metadata": {},
   "source": [
    "### Load Data"
   ]
  },
  {
   "cell_type": "code",
   "execution_count": null,
   "metadata": {
    "execution": {
     "iopub.execute_input": "2023-04-12T02:25:50.340466Z",
     "iopub.status.busy": "2023-04-12T02:25:50.339505Z",
     "iopub.status.idle": "2023-04-12T02:25:50.366548Z",
     "shell.execute_reply": "2023-04-12T02:25:50.365672Z",
     "shell.execute_reply.started": "2023-04-12T02:25:50.34042Z"
    }
   },
   "outputs": [],
   "source": [
    "# paths\n",
    "TRAIN_PATH = '/kaggle/input/playground-series-s3e12/train.csv'\n",
    "TEST_PATH = '/kaggle/input/playground-series-s3e12/test.csv'\n",
    "SUBMISSION_PATH = '/kaggle/input/playground-series-s3e12/sample_submission.csv'\n",
    "\n",
    "# read data\n",
    "train_df = pd.read_csv(TRAIN_PATH)\n",
    "test_df = pd.read_csv(TEST_PATH)\n",
    "submit_df = pd.read_csv(SUBMISSION_PATH)\n",
    "\n",
    "# drop column = id\n",
    "train_df.drop('id',axis=1,inplace=True)\n",
    "test_df.drop('id',axis=1,inplace=True)\n",
    "\n",
    "# drop NULLs\n",
    "train_df.dropna(inplace=True)\n",
    "test_df.dropna(inplace=True)\n",
    "\n",
    "# reset index\n",
    "train_df.reset_index(drop=True,inplace=True)\n",
    "test_df.reset_index(drop=True,inplace=True)\n",
    "\n",
    "# view\n",
    "print(f\"Training data shape: {train_df.shape}\")"
   ]
  },
  {
   "cell_type": "code",
   "execution_count": null,
   "metadata": {
    "execution": {
     "iopub.execute_input": "2023-04-12T02:25:50.368626Z",
     "iopub.status.busy": "2023-04-12T02:25:50.36797Z",
     "iopub.status.idle": "2023-04-12T02:25:50.377669Z",
     "shell.execute_reply": "2023-04-12T02:25:50.376284Z",
     "shell.execute_reply.started": "2023-04-12T02:25:50.368589Z"
    }
   },
   "outputs": [],
   "source": [
    "# feature engineering\n",
    "X = train_df.iloc[:, : 6]\n",
    "Y = train_df[['target']]\n",
    "\n",
    "# split data\n",
    "x_train, x_test, y_train, y_test = train_test_split(X, Y, random_state=0)\n",
    "print(f\"x_train shape: {x_train.shape} | x_test shape: {x_test.shape}\")"
   ]
  },
  {
   "cell_type": "markdown",
   "metadata": {},
   "source": [
    "### Naive Bayes"
   ]
  },
  {
   "cell_type": "code",
   "execution_count": null,
   "metadata": {
    "execution": {
     "iopub.execute_input": "2023-04-12T02:25:50.379687Z",
     "iopub.status.busy": "2023-04-12T02:25:50.379338Z",
     "iopub.status.idle": "2023-04-12T02:25:50.397555Z",
     "shell.execute_reply": "2023-04-12T02:25:50.396389Z",
     "shell.execute_reply.started": "2023-04-12T02:25:50.379653Z"
    }
   },
   "outputs": [],
   "source": [
    "%%time\n",
    "\n",
    "# import the library\n",
    "from sklearn.naive_bayes import MultinomialNB\n",
    "\n",
    "# instantiate & fit\n",
    "mnb = MultinomialNB().fit(x_train, y_train)\n",
    "print(\"score on test: \" + str(mnb.score(x_test, y_test)))\n",
    "Table.append(['Naive Bayes', mnb.score(x_test, y_test)])"
   ]
  },
  {
   "cell_type": "markdown",
   "metadata": {},
   "source": [
    "### Logistic Regression\n"
   ]
  },
  {
   "cell_type": "code",
   "execution_count": null,
   "metadata": {
    "execution": {
     "iopub.execute_input": "2023-04-12T02:25:50.400565Z",
     "iopub.status.busy": "2023-04-12T02:25:50.399871Z",
     "iopub.status.idle": "2023-04-12T02:25:50.444343Z",
     "shell.execute_reply": "2023-04-12T02:25:50.443143Z",
     "shell.execute_reply.started": "2023-04-12T02:25:50.400517Z"
    }
   },
   "outputs": [],
   "source": [
    "%%time\n",
    "\n",
    "# import the library\n",
    "from sklearn.linear_model import LogisticRegression\n",
    "\n",
    "# instantiate & fit\n",
    "lr=LogisticRegression(max_iter=5000)\n",
    "lr.fit(x_train, y_train)\n",
    "print(\"score on test: \" + str(lr.score(x_test, y_test)))\n",
    "Table.append(['Logistic Regression', lr.score(x_test, y_test)])"
   ]
  },
  {
   "cell_type": "code",
   "execution_count": null,
   "metadata": {
    "execution": {
     "iopub.execute_input": "2023-04-12T02:25:50.445952Z",
     "iopub.status.busy": "2023-04-12T02:25:50.445613Z",
     "iopub.status.idle": "2023-04-12T02:25:50.465135Z",
     "shell.execute_reply": "2023-04-12T02:25:50.463837Z",
     "shell.execute_reply.started": "2023-04-12T02:25:50.445917Z"
    }
   },
   "outputs": [],
   "source": [
    "%%time\n",
    "\n",
    "# import the library\n",
    "from sklearn.linear_model import SGDClassifier\n",
    "\n",
    "# instantiate & fit\n",
    "sgd=SGDClassifier()\n",
    "sgd.fit(x_train, y_train)\n",
    "print(\"score on test: \" + str(sgd.score(x_test, y_test)))\n",
    "Table.append(['SGDClassifier', sgd.score(x_test, y_test)])"
   ]
  },
  {
   "cell_type": "markdown",
   "metadata": {},
   "source": [
    "### K-Nearest Neighbours"
   ]
  },
  {
   "cell_type": "code",
   "execution_count": null,
   "metadata": {
    "execution": {
     "iopub.execute_input": "2023-04-12T02:25:50.467244Z",
     "iopub.status.busy": "2023-04-12T02:25:50.466926Z",
     "iopub.status.idle": "2023-04-12T02:25:50.692793Z",
     "shell.execute_reply": "2023-04-12T02:25:50.691478Z",
     "shell.execute_reply.started": "2023-04-12T02:25:50.467213Z"
    }
   },
   "outputs": [],
   "source": [
    "%%time\n",
    "\n",
    "# import the library\n",
    "from sklearn.neighbors import KNeighborsClassifier\n",
    "\n",
    "# instantiate & fit\n",
    "knn = KNeighborsClassifier(algorithm = 'brute', n_jobs=-1)\n",
    "knn.fit(x_train, y_train)\n",
    "print(\"score on test: \" + str(knn.score(x_test, y_test)))\n",
    "Table.append(['KNN', knn.score(x_test, y_test)])"
   ]
  },
  {
   "cell_type": "markdown",
   "metadata": {},
   "source": [
    "### Support Vector Machine"
   ]
  },
  {
   "cell_type": "code",
   "execution_count": null,
   "metadata": {
    "execution": {
     "iopub.execute_input": "2023-04-12T02:25:50.695946Z",
     "iopub.status.busy": "2023-04-12T02:25:50.695604Z",
     "iopub.status.idle": "2023-04-12T02:25:50.727466Z",
     "shell.execute_reply": "2023-04-12T02:25:50.726262Z",
     "shell.execute_reply.started": "2023-04-12T02:25:50.695911Z"
    }
   },
   "outputs": [],
   "source": [
    "%%time\n",
    "\n",
    "# import the library\n",
    "from sklearn.svm import LinearSVC\n",
    "\n",
    "# instantiate & fit\n",
    "svm=LinearSVC(C=0.0001)\n",
    "svm.fit(x_train, y_train)\n",
    "print(\"score on test: \" + str(svm.score(x_test, y_test)))\n",
    "Table.append(['SVM', svm.score(x_test, y_test)])"
   ]
  },
  {
   "cell_type": "markdown",
   "metadata": {},
   "source": [
    "### Decision Tree"
   ]
  },
  {
   "cell_type": "code",
   "execution_count": null,
   "metadata": {
    "execution": {
     "iopub.execute_input": "2023-04-12T02:25:50.729311Z",
     "iopub.status.busy": "2023-04-12T02:25:50.7289Z",
     "iopub.status.idle": "2023-04-12T02:25:50.744506Z",
     "shell.execute_reply": "2023-04-12T02:25:50.742979Z",
     "shell.execute_reply.started": "2023-04-12T02:25:50.72926Z"
    }
   },
   "outputs": [],
   "source": [
    "%%time\n",
    "\n",
    "# import the library\n",
    "from sklearn.tree import DecisionTreeClassifier\n",
    "\n",
    "# instantiate & fit\n",
    "clf = DecisionTreeClassifier(min_samples_split=10,max_depth=3)\n",
    "clf.fit(x_train, y_train)\n",
    "print(\"score on test: \"  + str(clf.score(x_test, y_test)))\n",
    "Table.append(['Decision Tree', clf.score(x_test, y_test)])"
   ]
  },
  {
   "cell_type": "markdown",
   "metadata": {},
   "source": [
    "### Bagging Decision Tree"
   ]
  },
  {
   "cell_type": "code",
   "execution_count": null,
   "metadata": {
    "execution": {
     "iopub.execute_input": "2023-04-12T02:25:50.746679Z",
     "iopub.status.busy": "2023-04-12T02:25:50.74622Z",
     "iopub.status.idle": "2023-04-12T02:25:50.786134Z",
     "shell.execute_reply": "2023-04-12T02:25:50.785042Z",
     "shell.execute_reply.started": "2023-04-12T02:25:50.746634Z"
    }
   },
   "outputs": [],
   "source": [
    "%%time\n",
    "\n",
    "# import the library\n",
    "from sklearn.ensemble import BaggingClassifier\n",
    "from sklearn.tree import DecisionTreeClassifier\n",
    "\n",
    "# instantiate & fit\n",
    "bg=BaggingClassifier(DecisionTreeClassifier(min_samples_split=10,max_depth=3),max_samples=0.5,max_features=1.0,n_estimators=10)\n",
    "bg.fit(x_train, y_train)\n",
    "print(\"score on test: \" + str(bg.score(x_test, y_test)))\n",
    "Table.append(['Bagging Decision Tree', bg.score(x_test, y_test)])"
   ]
  },
  {
   "cell_type": "markdown",
   "metadata": {},
   "source": [
    "### Boosting Decision Tree"
   ]
  },
  {
   "cell_type": "code",
   "execution_count": null,
   "metadata": {
    "execution": {
     "iopub.execute_input": "2023-04-12T02:25:50.787904Z",
     "iopub.status.busy": "2023-04-12T02:25:50.787465Z",
     "iopub.status.idle": "2023-04-12T02:25:51.015504Z",
     "shell.execute_reply": "2023-04-12T02:25:51.013555Z",
     "shell.execute_reply.started": "2023-04-12T02:25:50.787849Z"
    }
   },
   "outputs": [],
   "source": [
    "%%time\n",
    "\n",
    "# import the library\n",
    "from sklearn.ensemble import AdaBoostClassifier\n",
    "from sklearn.tree import DecisionTreeClassifier\n",
    "\n",
    "# instantiate & fit\n",
    "adb = AdaBoostClassifier(DecisionTreeClassifier(max_depth=2),n_estimators=100,learning_rate=0.5)\n",
    "adb.fit(x_train, y_train)\n",
    "print(\"score on test: \" + str(adb.score(x_test, y_test)))\n",
    "Table.append(['AdaBoost Classifier', adb.score(x_test, y_test)])"
   ]
  },
  {
   "cell_type": "code",
   "execution_count": null,
   "metadata": {
    "execution": {
     "iopub.execute_input": "2023-04-12T02:25:51.017228Z",
     "iopub.status.busy": "2023-04-12T02:25:51.016824Z",
     "iopub.status.idle": "2023-04-12T02:25:51.127271Z",
     "shell.execute_reply": "2023-04-12T02:25:51.126013Z",
     "shell.execute_reply.started": "2023-04-12T02:25:51.017194Z"
    }
   },
   "outputs": [],
   "source": [
    "%%time\n",
    "\n",
    "# import the library\n",
    "from sklearn.ensemble import GradientBoostingClassifier\n",
    "\n",
    "# instantiate & fit\n",
    "gbc = GradientBoostingClassifier(n_estimators=100)\n",
    "gbc.fit(x_train, y_train)\n",
    "print(\"score on test: \" + str(gbc.score(x_test, y_test)))\n",
    "Table.append(['Gradient Boost Classifier', gbc.score(x_test, y_test)])"
   ]
  },
  {
   "cell_type": "markdown",
   "metadata": {},
   "source": [
    "### Random Forest"
   ]
  },
  {
   "cell_type": "code",
   "execution_count": null,
   "metadata": {
    "execution": {
     "iopub.execute_input": "2023-04-12T02:25:51.128856Z",
     "iopub.status.busy": "2023-04-12T02:25:51.128539Z",
     "iopub.status.idle": "2023-04-12T02:25:51.663992Z",
     "shell.execute_reply": "2023-04-12T02:25:51.663009Z",
     "shell.execute_reply.started": "2023-04-12T02:25:51.128824Z"
    }
   },
   "outputs": [],
   "source": [
    "%%time\n",
    "\n",
    "# import the library\n",
    "from sklearn.ensemble import RandomForestClassifier\n",
    "\n",
    "# instantiate & fit\n",
    "rf = RandomForestClassifier(n_estimators=300,max_depth=3)\n",
    "rf.fit(x_train, y_train)\n",
    "print(\"score on test: \" + str(rf.score(x_test, y_test)))\n",
    "Table.append(['Random Forest', rf.score(x_test, y_test)])"
   ]
  },
  {
   "cell_type": "markdown",
   "metadata": {},
   "source": [
    "### Voting Classifier"
   ]
  },
  {
   "cell_type": "code",
   "execution_count": null,
   "metadata": {
    "execution": {
     "iopub.execute_input": "2023-04-12T02:25:51.666347Z",
     "iopub.status.busy": "2023-04-12T02:25:51.66535Z",
     "iopub.status.idle": "2023-04-12T02:25:51.872777Z",
     "shell.execute_reply": "2023-04-12T02:25:51.871447Z",
     "shell.execute_reply.started": "2023-04-12T02:25:51.666283Z"
    }
   },
   "outputs": [],
   "source": [
    "%%time\n",
    "\n",
    "# import the library\n",
    "from sklearn.ensemble import VotingClassifier\n",
    "\n",
    "# 1) naive bias = mnb\n",
    "mnb = MultinomialNB().fit(x_train, y_train)\n",
    "# 2) logistic regression =lr\n",
    "lr=LogisticRegression(max_iter=5000)\n",
    "# 3) random forest =rf\n",
    "rf = RandomForestClassifier(n_estimators=30,max_depth=3)\n",
    "# 4) suport vecotr mnachine = svm\n",
    "svm=LinearSVC(max_iter=5000)\n",
    "evc=VotingClassifier(estimators=[('mnb',mnb),('lr',lr),('rf',rf),('svm',svm)])\n",
    "evc.fit(x_train, y_train)\n",
    "\n",
    "print(\"score on test: \" + str(evc.score(x_test, y_test)))\n",
    "Table.append(['Voting Classifier', evc.score(x_test, y_test)])\n"
   ]
  },
  {
   "cell_type": "markdown",
   "metadata": {},
   "source": [
    "### Deep Learning"
   ]
  },
  {
   "cell_type": "code",
   "execution_count": null,
   "metadata": {
    "execution": {
     "iopub.execute_input": "2023-04-12T02:25:51.875484Z",
     "iopub.status.busy": "2023-04-12T02:25:51.874678Z",
     "iopub.status.idle": "2023-04-12T02:25:56.248643Z",
     "shell.execute_reply": "2023-04-12T02:25:56.247242Z",
     "shell.execute_reply.started": "2023-04-12T02:25:51.875434Z"
    }
   },
   "outputs": [],
   "source": [
    "%%time\n",
    "\n",
    "# import the library\n",
    "from keras import layers\n",
    "from keras import models\n",
    "from keras import optimizers\n",
    "from keras import losses\n",
    "from keras import regularizers\n",
    "from keras import metrics\n",
    "from tqdm.keras import TqdmCallback\n",
    "\n",
    "# add validation dataset\n",
    "validation_split=100\n",
    "x_validation=X[:validation_split]\n",
    "x_partial_train=X[validation_split:]\n",
    "y_validation=Y[:validation_split]\n",
    "y_partial_train=Y[validation_split:]\n",
    "\n",
    "# build & compile model\n",
    "model=models.Sequential()\n",
    "model.add(layers.Dense(4,kernel_regularizer=regularizers.l2(0.003),activation='relu',input_shape=(6,)))\n",
    "model.add(layers.Dropout(0.7))\n",
    "model.add(layers.Dense(4,kernel_regularizer=regularizers.l2(0.003),activation='relu'))\n",
    "model.add(layers.Dropout(0.7))\n",
    "model.add(layers.Dense(1,activation='sigmoid'))\n",
    "model.compile(optimizer='rmsprop',loss='binary_crossentropy',metrics=['accuracy'])\n",
    "\n",
    "# fir the model\n",
    "model.fit(x_partial_train,y_partial_train,epochs=100,batch_size=512,validation_data=(x_validation,y_validation), callbacks=[TqdmCallback(verbose=0)],verbose=0)\n",
    "\n",
    "print('')\n",
    "print(\"score on test: \" + str(model.evaluate(x_test,y_test)[1]))\n",
    "Table.append(['Neural Network', model.evaluate(x_test,y_test)[1]])"
   ]
  },
  {
   "cell_type": "code",
   "execution_count": null,
   "metadata": {
    "execution": {
     "iopub.execute_input": "2023-04-12T02:25:56.254056Z",
     "iopub.status.busy": "2023-04-12T02:25:56.253703Z",
     "iopub.status.idle": "2023-04-12T02:25:56.261427Z",
     "shell.execute_reply": "2023-04-12T02:25:56.260011Z",
     "shell.execute_reply.started": "2023-04-12T02:25:56.254019Z"
    }
   },
   "outputs": [],
   "source": [
    "# view\n",
    "print(tabulate(Table, headers=[\"Model\",\"Score\"], tablefmt='fancy_outline') )"
   ]
  },
  {
   "cell_type": "markdown",
   "metadata": {},
   "source": [
    "**Decision Tree Classifer seems to be giving the best result.**"
   ]
  },
  {
   "cell_type": "markdown",
   "metadata": {},
   "source": [
    "### Fine-Tune Decision Tree Classifier"
   ]
  },
  {
   "cell_type": "code",
   "execution_count": null,
   "metadata": {
    "execution": {
     "iopub.execute_input": "2023-04-12T02:25:56.263035Z",
     "iopub.status.busy": "2023-04-12T02:25:56.262705Z",
     "iopub.status.idle": "2023-04-12T02:25:57.052143Z",
     "shell.execute_reply": "2023-04-12T02:25:57.051183Z",
     "shell.execute_reply.started": "2023-04-12T02:25:56.263001Z"
    }
   },
   "outputs": [],
   "source": [
    "# fine-tuning the Decision Tree Classifier\n",
    "from sklearn.model_selection import GridSearchCV\n",
    "\n",
    "# instantiate\n",
    "dtc = DecisionTreeClassifier()\n",
    "\n",
    "# define paramter grid.\n",
    "param_grid = [{'min_samples_split': [5, 10, 15, 20], 'max_depth': [3, 6, 9, 12]}]\n",
    "\n",
    "# define grid-search\n",
    "grid_search = GridSearchCV(estimator=dtc,\n",
    "                          param_grid=param_grid,\n",
    "                          scoring=\"top_k_accuracy\",\n",
    "                          cv=5,\n",
    "                          return_train_score=True)\n",
    "\n",
    "# fit the grid search\n",
    "grid_search.fit(x_train, y_train)"
   ]
  },
  {
   "cell_type": "code",
   "execution_count": null,
   "metadata": {
    "execution": {
     "iopub.execute_input": "2023-04-12T02:25:57.054018Z",
     "iopub.status.busy": "2023-04-12T02:25:57.053662Z",
     "iopub.status.idle": "2023-04-12T02:25:57.066129Z",
     "shell.execute_reply": "2023-04-12T02:25:57.06494Z",
     "shell.execute_reply.started": "2023-04-12T02:25:57.053983Z"
    }
   },
   "outputs": [],
   "source": [
    "# get the best estimator\n",
    "dtc_tuned = grid_search.best_estimator_\n",
    "\n",
    "# fit the estimator\n",
    "dtc_tuned.fit(x_train, y_train)\n",
    "print(\"score on test: \"  + str(dtc_tuned.score(x_test, y_test)))"
   ]
  },
  {
   "cell_type": "code",
   "execution_count": null,
   "metadata": {
    "execution": {
     "iopub.execute_input": "2023-04-12T02:25:57.067637Z",
     "iopub.status.busy": "2023-04-12T02:25:57.067329Z",
     "iopub.status.idle": "2023-04-12T02:25:57.082174Z",
     "shell.execute_reply": "2023-04-12T02:25:57.081169Z",
     "shell.execute_reply.started": "2023-04-12T02:25:57.067605Z"
    }
   },
   "outputs": [],
   "source": [
    "# make prediction on TEST data\n",
    "result = dtc_tuned.predict(test_df)\n",
    "\n",
    "# add the prediction to the submission\n",
    "submit_df['target'] = result\n",
    "\n",
    "# get the datestamp\n",
    "datestamp = '{:%Y_%m_%d}'.format(datetime.date.today())\n",
    "\n",
    "# save the submission\n",
    "submit_df.to_csv(str(datestamp)+\"_submission.csv\",index=False)"
   ]
  }
 ],
 "metadata": {
  "kaggle": {
   "accelerator": "none",
   "dataSources": [
    {
     "databundleVersionId": 5220863,
     "sourceId": 49200,
     "sourceType": "competition"
    }
   ],
   "dockerImageVersionId": 30458,
   "isGpuEnabled": false,
   "isInternetEnabled": false,
   "language": "python",
   "sourceType": "notebook"
  },
  "kernelspec": {
   "display_name": "Python 3 (ipykernel)",
   "language": "python",
   "name": "python3"
  },
  "language_info": {
   "codemirror_mode": {
    "name": "ipython",
    "version": 3
   },
   "file_extension": ".py",
   "mimetype": "text/x-python",
   "name": "python",
   "nbconvert_exporter": "python",
   "pygments_lexer": "ipython3",
   "version": "3.13.0"
  }
 },
 "nbformat": 4,
 "nbformat_minor": 4
}
