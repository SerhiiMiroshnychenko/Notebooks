{
 "cells": [
  {
   "cell_type": "markdown",
   "id": "0ad67600-b1ad-461d-867b-d8c9ce3619f0",
   "metadata": {},
   "source": [
    "[NumPy](https://numpy.org/)"
   ]
  },
  {
   "cell_type": "code",
   "execution_count": 1,
   "id": "2e2ddabd-ff1b-490f-b55f-38af42653028",
   "metadata": {
    "editable": true,
    "slideshow": {
     "slide_type": ""
    },
    "tags": []
   },
   "outputs": [],
   "source": [
    "import numpy as np"
   ]
  },
  {
   "cell_type": "code",
   "execution_count": 2,
   "id": "e920d892-d594-4361-bbfe-fa4c6cad3b82",
   "metadata": {},
   "outputs": [
    {
     "data": {
      "text/plain": [
       "array([1, 2, 3, 4])"
      ]
     },
     "execution_count": 2,
     "metadata": {},
     "output_type": "execute_result"
    }
   ],
   "source": [
    "nums_array = np.array([1,2,3,4])\n",
    "nums_array"
   ]
  },
  {
   "cell_type": "code",
   "execution_count": 3,
   "id": "41bc9df2-391d-4631-ae12-079aee4fe858",
   "metadata": {},
   "outputs": [
    {
     "data": {
      "text/plain": [
       "numpy.ndarray"
      ]
     },
     "execution_count": 3,
     "metadata": {},
     "output_type": "execute_result"
    }
   ],
   "source": [
    "type(nums_array)"
   ]
  },
  {
   "cell_type": "code",
   "execution_count": 4,
   "id": "f8da59fc-d0c7-4343-bb79-6b39c2cbd568",
   "metadata": {},
   "outputs": [
    {
     "data": {
      "text/plain": [
       "type"
      ]
     },
     "execution_count": 4,
     "metadata": {},
     "output_type": "execute_result"
    }
   ],
   "source": [
    "type(np.ndarray)"
   ]
  },
  {
   "cell_type": "code",
   "execution_count": 5,
   "id": "d35b998d-359a-4843-a86b-090941335b7a",
   "metadata": {},
   "outputs": [
    {
     "data": {
      "text/plain": [
       "np.int64(1)"
      ]
     },
     "execution_count": 5,
     "metadata": {},
     "output_type": "execute_result"
    }
   ],
   "source": [
    "nums_array[0]"
   ]
  },
  {
   "cell_type": "code",
   "execution_count": 6,
   "id": "d4c48824-e5f4-4e5b-933b-4b3280e0945c",
   "metadata": {},
   "outputs": [
    {
     "data": {
      "text/plain": [
       "np.int64(4)"
      ]
     },
     "execution_count": 6,
     "metadata": {},
     "output_type": "execute_result"
    }
   ],
   "source": [
    "nums_array[-1]"
   ]
  },
  {
   "cell_type": "code",
   "execution_count": 7,
   "id": "4c58c09a-d3f5-4731-8263-1ebe92727da1",
   "metadata": {},
   "outputs": [
    {
     "data": {
      "text/plain": [
       "4"
      ]
     },
     "execution_count": 7,
     "metadata": {},
     "output_type": "execute_result"
    }
   ],
   "source": [
    "int(nums_array[-1])"
   ]
  },
  {
   "cell_type": "code",
   "execution_count": 8,
   "id": "e4fb1fa8-d469-4c9d-8bf7-7f6c42479297",
   "metadata": {},
   "outputs": [
    {
     "data": {
      "text/plain": [
       "numpy.int64"
      ]
     },
     "execution_count": 8,
     "metadata": {},
     "output_type": "execute_result"
    }
   ],
   "source": [
    "type(nums_array[-1])"
   ]
  },
  {
   "cell_type": "markdown",
   "id": "85015acf-09eb-4d8a-b3dc-4e7a6aa4d35e",
   "metadata": {},
   "source": [
    "Розмірність масиву np"
   ]
  },
  {
   "cell_type": "code",
   "execution_count": 9,
   "id": "b8af9463-5167-422a-9e56-1d8011a53418",
   "metadata": {},
   "outputs": [
    {
     "data": {
      "text/plain": [
       "(4,)"
      ]
     },
     "execution_count": 9,
     "metadata": {},
     "output_type": "execute_result"
    }
   ],
   "source": [
    "nums_array.shape    "
   ]
  },
  {
   "cell_type": "markdown",
   "id": "8383a66d-cf25-43b2-8424-33f257379b0a",
   "metadata": {},
   "source": [
    "Кількість вимірів масиву"
   ]
  },
  {
   "cell_type": "code",
   "execution_count": 10,
   "id": "bf7eca07-09f4-4caa-a97a-712ec04dc8d6",
   "metadata": {},
   "outputs": [
    {
     "data": {
      "text/plain": [
       "1"
      ]
     },
     "execution_count": 10,
     "metadata": {},
     "output_type": "execute_result"
    }
   ],
   "source": [
    "nums_array.ndim"
   ]
  },
  {
   "cell_type": "markdown",
   "id": "48851a58-44e0-4b5c-b3cb-71fe366b3d50",
   "metadata": {},
   "source": [
    "Розмір"
   ]
  },
  {
   "cell_type": "code",
   "execution_count": 11,
   "id": "f79d0962-eaab-4caa-9454-e0a02b0482e5",
   "metadata": {},
   "outputs": [
    {
     "data": {
      "text/plain": [
       "4"
      ]
     },
     "execution_count": 11,
     "metadata": {},
     "output_type": "execute_result"
    }
   ],
   "source": [
    "nums_array.size"
   ]
  },
  {
   "cell_type": "markdown",
   "id": "61ac49e7-9009-4da5-b562-53c03552778f",
   "metadata": {},
   "source": [
    "Тип елементів масиву"
   ]
  },
  {
   "cell_type": "code",
   "execution_count": 12,
   "id": "0d73016f-d093-4e02-bb06-ef50c16adfc3",
   "metadata": {},
   "outputs": [
    {
     "data": {
      "text/plain": [
       "dtype('int64')"
      ]
     },
     "execution_count": 12,
     "metadata": {},
     "output_type": "execute_result"
    }
   ],
   "source": [
    "nums_array.dtype"
   ]
  },
  {
   "cell_type": "markdown",
   "id": "b85043af-e8a8-4e5e-8ea7-39fd812c23ab",
   "metadata": {},
   "source": [
    "Скільки кожен елемент займає в пам'яті"
   ]
  },
  {
   "cell_type": "code",
   "execution_count": 13,
   "id": "9f8dd65b-c753-4959-b38d-7f17f6df6188",
   "metadata": {},
   "outputs": [
    {
     "data": {
      "text/plain": [
       "8"
      ]
     },
     "execution_count": 13,
     "metadata": {},
     "output_type": "execute_result"
    }
   ],
   "source": [
    "nums_array.itemsize"
   ]
  },
  {
   "cell_type": "code",
   "execution_count": 15,
   "id": "1c9032de-be7e-42dd-a28c-738c970dfe30",
   "metadata": {},
   "outputs": [
    {
     "data": {
      "text/plain": [
       "array(['True', '10', 'abc', '5.5'], dtype='<U32')"
      ]
     },
     "execution_count": 15,
     "metadata": {},
     "output_type": "execute_result"
    }
   ],
   "source": [
    "test_array = np.array([True, 10, 'abc', 5.5])\n",
    "test_array"
   ]
  },
  {
   "cell_type": "markdown",
   "id": "1fd8cff9-b485-435a-bd23-dbd25e2adc0a",
   "metadata": {},
   "source": [
    "*Всі типи були конвертовані в рядки*"
   ]
  },
  {
   "cell_type": "code",
   "execution_count": 16,
   "id": "5dd01e73-e976-4567-90d5-0c4a9be4d28b",
   "metadata": {},
   "outputs": [
    {
     "data": {
      "text/plain": [
       "dtype('<U32')"
      ]
     },
     "execution_count": 16,
     "metadata": {},
     "output_type": "execute_result"
    }
   ],
   "source": [
    "test_array.dtype"
   ]
  },
  {
   "cell_type": "code",
   "execution_count": 17,
   "id": "3b7bce34-4a01-4f9e-bac0-944ec1328ad3",
   "metadata": {},
   "outputs": [
    {
     "data": {
      "text/plain": [
       "'str1024'"
      ]
     },
     "execution_count": 17,
     "metadata": {},
     "output_type": "execute_result"
    }
   ],
   "source": [
    "test_array.dtype.name"
   ]
  },
  {
   "cell_type": "code",
   "execution_count": 18,
   "id": "36d6c322-1bbc-4346-9f83-99992ab34ff7",
   "metadata": {},
   "outputs": [
    {
     "data": {
      "text/plain": [
       "128"
      ]
     },
     "execution_count": 18,
     "metadata": {},
     "output_type": "execute_result"
    }
   ],
   "source": [
    "test_array.itemsize"
   ]
  },
  {
   "cell_type": "code",
   "execution_count": 20,
   "id": "87874cee-e0fd-4ed4-91c4-b334d097a8b6",
   "metadata": {},
   "outputs": [
    {
     "data": {
      "text/plain": [
       "array([{'city': 'London'}, {'city': 'Boston'}], dtype=object)"
      ]
     },
     "execution_count": 20,
     "metadata": {},
     "output_type": "execute_result"
    }
   ],
   "source": [
    "obj_array = np.array([{'city': 'London'}, {'city': 'Boston'}])\n",
    "obj_array"
   ]
  },
  {
   "cell_type": "code",
   "execution_count": 21,
   "id": "cd359117-013b-4efe-ae24-fb017f6ce9b6",
   "metadata": {},
   "outputs": [
    {
     "data": {
      "text/plain": [
       "'object'"
      ]
     },
     "execution_count": 21,
     "metadata": {},
     "output_type": "execute_result"
    }
   ],
   "source": [
    "obj_array.dtype.name"
   ]
  },
  {
   "cell_type": "code",
   "execution_count": 22,
   "id": "2903a6a9-1817-4f9c-9747-8f1322fad005",
   "metadata": {},
   "outputs": [
    {
     "data": {
      "text/plain": [
       "8"
      ]
     },
     "execution_count": 22,
     "metadata": {},
     "output_type": "execute_result"
    }
   ],
   "source": [
    "obj_array.itemsize"
   ]
  },
  {
   "cell_type": "markdown",
   "id": "ae0e052a-9a46-4006-b248-e2b12fb7f026",
   "metadata": {},
   "source": [
    "*8 байтів, тому що в масиві просто посилання на об'єкти (кожне важить 8 байтів)*"
   ]
  }
 ],
 "metadata": {
  "kernelspec": {
   "display_name": "Python 3 (ipykernel)",
   "language": "python",
   "name": "python3"
  },
  "language_info": {
   "codemirror_mode": {
    "name": "ipython",
    "version": 3
   },
   "file_extension": ".py",
   "mimetype": "text/x-python",
   "name": "python",
   "nbconvert_exporter": "python",
   "pygments_lexer": "ipython3",
   "version": "3.13.0"
  }
 },
 "nbformat": 4,
 "nbformat_minor": 5
}
