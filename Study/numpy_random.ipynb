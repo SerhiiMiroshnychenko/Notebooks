{
 "cells": [
  {
   "cell_type": "code",
   "execution_count": 1,
   "id": "063038ed-79f1-49ed-8c87-ab3421e46daf",
   "metadata": {},
   "outputs": [],
   "source": [
    "import numpy as np"
   ]
  },
  {
   "cell_type": "code",
   "execution_count": 3,
   "id": "4f9ac2bc-a734-4b68-b4aa-f95f9dadbab6",
   "metadata": {},
   "outputs": [
    {
     "data": {
      "text/plain": [
       "array([0., 0., 0.])"
      ]
     },
     "execution_count": 3,
     "metadata": {},
     "output_type": "execute_result"
    }
   ],
   "source": [
    "np.zeros((3))"
   ]
  },
  {
   "cell_type": "code",
   "execution_count": 2,
   "id": "3f3a1b89-1921-462b-9d6c-3170c864ea0a",
   "metadata": {},
   "outputs": [
    {
     "data": {
      "text/plain": [
       "array([[0., 0., 0., 0.],\n",
       "       [0., 0., 0., 0.],\n",
       "       [0., 0., 0., 0.]])"
      ]
     },
     "execution_count": 2,
     "metadata": {},
     "output_type": "execute_result"
    }
   ],
   "source": [
    "np.zeros((3,4))"
   ]
  },
  {
   "cell_type": "code",
   "execution_count": 8,
   "id": "944b3930-48d4-4fc3-9fee-095f877c3db6",
   "metadata": {},
   "outputs": [
    {
     "data": {
      "text/plain": [
       "array([[0., 0., 0., 0.]])"
      ]
     },
     "execution_count": 8,
     "metadata": {},
     "output_type": "execute_result"
    }
   ],
   "source": [
    "np.zeros((1,4))"
   ]
  },
  {
   "cell_type": "code",
   "execution_count": 9,
   "id": "5f37aa40-cfd9-4903-9651-6045b1a37522",
   "metadata": {},
   "outputs": [
    {
     "data": {
      "text/plain": [
       "array([[[0., 0.],\n",
       "        [0., 0.],\n",
       "        [0., 0.],\n",
       "        [0., 0.]],\n",
       "\n",
       "       [[0., 0.],\n",
       "        [0., 0.],\n",
       "        [0., 0.],\n",
       "        [0., 0.]],\n",
       "\n",
       "       [[0., 0.],\n",
       "        [0., 0.],\n",
       "        [0., 0.],\n",
       "        [0., 0.]]])"
      ]
     },
     "execution_count": 9,
     "metadata": {},
     "output_type": "execute_result"
    }
   ],
   "source": [
    "np.zeros((3,4,2))"
   ]
  },
  {
   "cell_type": "code",
   "execution_count": 10,
   "id": "c542120f-2035-4880-ac46-13ffa0914e8d",
   "metadata": {},
   "outputs": [
    {
     "data": {
      "text/plain": [
       "array([[0, 0, 0, 0],\n",
       "       [0, 0, 0, 0],\n",
       "       [0, 0, 0, 0]])"
      ]
     },
     "execution_count": 10,
     "metadata": {},
     "output_type": "execute_result"
    }
   ],
   "source": [
    "np.zeros((3,4), dtype=int)"
   ]
  },
  {
   "cell_type": "code",
   "execution_count": 11,
   "id": "93c720c3-c44e-479a-888e-74f5ea89298a",
   "metadata": {},
   "outputs": [
    {
     "data": {
      "text/plain": [
       "array([[False, False, False, False],\n",
       "       [False, False, False, False],\n",
       "       [False, False, False, False]])"
      ]
     },
     "execution_count": 11,
     "metadata": {},
     "output_type": "execute_result"
    }
   ],
   "source": [
    "np.zeros((3,4), dtype=bool)"
   ]
  },
  {
   "cell_type": "code",
   "execution_count": 12,
   "id": "713b8ae6-0d94-44c6-874a-79ab775010fa",
   "metadata": {},
   "outputs": [
    {
     "data": {
      "text/plain": [
       "array([['', '', '', ''],\n",
       "       ['', '', '', ''],\n",
       "       ['', '', '', '']], dtype='<U1')"
      ]
     },
     "execution_count": 12,
     "metadata": {},
     "output_type": "execute_result"
    }
   ],
   "source": [
    "np.zeros((3,4), dtype=str)"
   ]
  },
  {
   "cell_type": "code",
   "execution_count": 13,
   "id": "840a5ec1-642a-4408-bf11-dd707d1da9f5",
   "metadata": {},
   "outputs": [
    {
     "data": {
      "text/plain": [
       "array([[1., 1., 1.],\n",
       "       [1., 1., 1.],\n",
       "       [1., 1., 1.],\n",
       "       [1., 1., 1.],\n",
       "       [1., 1., 1.]])"
      ]
     },
     "execution_count": 13,
     "metadata": {},
     "output_type": "execute_result"
    }
   ],
   "source": [
    "np.ones((5,3))"
   ]
  },
  {
   "cell_type": "code",
   "execution_count": 39,
   "id": "75f9c8c1-88af-4d4d-8e95-ab0fce751348",
   "metadata": {},
   "outputs": [
    {
     "data": {
      "text/plain": [
       "array([[0.5759465 , 0.9292962 , 0.31856895, 0.66741038],\n",
       "       [0.13179786, 0.7163272 , 0.28940609, 0.18319136]])"
      ]
     },
     "execution_count": 39,
     "metadata": {},
     "output_type": "execute_result"
    }
   ],
   "source": [
    "rand_array = np.random.random((2,4))\n",
    "rand_array"
   ]
  },
  {
   "cell_type": "code",
   "execution_count": 18,
   "id": "237fb302-5af3-4d2f-b0fa-166121a2bff2",
   "metadata": {},
   "outputs": [
    {
     "data": {
      "text/plain": [
       "array([[0.78, 0.17, 0.49, 0.81],\n",
       "       [0.8 , 0.58, 0.87, 0.6 ]])"
      ]
     },
     "execution_count": 18,
     "metadata": {},
     "output_type": "execute_result"
    }
   ],
   "source": [
    "rounded_array = np.round(rand_array, 2)\n",
    "rounded_array"
   ]
  },
  {
   "cell_type": "code",
   "execution_count": 66,
   "id": "f4c1ab0a-75c0-4721-88db-bfbec9966528",
   "metadata": {},
   "outputs": [
    {
     "data": {
      "text/plain": [
       "array([[0.77132064, 0.02075195, 0.63364823, 0.74880388],\n",
       "       [0.49850701, 0.22479665, 0.19806286, 0.76053071]])"
      ]
     },
     "execution_count": 66,
     "metadata": {},
     "output_type": "execute_result"
    }
   ],
   "source": [
    "np.random.seed(10) # Призначаємо початкове зерно. Точка входу для псевдовипадкового алгоритмн\n",
    "np.random.random((2,4))"
   ]
  },
  {
   "cell_type": "code",
   "execution_count": 221,
   "id": "122df619-a48e-4567-8c52-f1b48adfeff0",
   "metadata": {},
   "outputs": [
    {
     "data": {
      "text/plain": [
       "array([[0, 6, 2, 5, 9],\n",
       "       [5, 5, 4, 1, 5],\n",
       "       [9, 3, 0, 0, 5],\n",
       "       [2, 7, 8, 8, 1],\n",
       "       [5, 5, 1, 2, 5]], dtype=int32)"
      ]
     },
     "execution_count": 221,
     "metadata": {},
     "output_type": "execute_result"
    }
   ],
   "source": [
    "np.random.randint(low=0, high=10, size=(5,5))"
   ]
  },
  {
   "cell_type": "code",
   "execution_count": 223,
   "id": "d413b069-7534-47d2-877c-feb79a4a5d8f",
   "metadata": {},
   "outputs": [
    {
     "data": {
      "text/plain": [
       "array([[0.77132064, 0.02075195, 0.63364823, 0.74880388],\n",
       "       [0.49850701, 0.22479665, 0.19806286, 0.76053071]])"
      ]
     },
     "execution_count": 223,
     "metadata": {},
     "output_type": "execute_result"
    }
   ],
   "source": [
    "# same as random\n",
    "np.random.seed(10)\n",
    "np.random.uniform(size=(2,4))"
   ]
  },
  {
   "cell_type": "code",
   "execution_count": 224,
   "id": "10e58202-8220-43a8-b897-37adcd070b7a",
   "metadata": {},
   "outputs": [
    {
     "data": {
      "text/plain": [
       "array([[40.85282573, 10.83007797, 35.3459294 , 39.9521553 ],\n",
       "       [29.94028049, 18.99186582, 17.92251459, 40.42122849]])"
      ]
     },
     "execution_count": 224,
     "metadata": {},
     "output_type": "execute_result"
    }
   ],
   "source": [
    "# same as random\n",
    "np.random.seed(10)\n",
    "np.random.uniform(10.0, 50.0, size=(2,4))"
   ]
  },
  {
   "cell_type": "code",
   "execution_count": null,
   "id": "87a41995-3ed6-4c39-b718-bbef0c54eff5",
   "metadata": {},
   "outputs": [],
   "source": []
  },
  {
   "cell_type": "code",
   "execution_count": null,
   "id": "f4dbdc49-5d6b-4397-9616-c3bec3bb044a",
   "metadata": {},
   "outputs": [],
   "source": []
  }
 ],
 "metadata": {
  "kernelspec": {
   "display_name": "Python 3 (ipykernel)",
   "language": "python",
   "name": "python3"
  },
  "language_info": {
   "codemirror_mode": {
    "name": "ipython",
    "version": 3
   },
   "file_extension": ".py",
   "mimetype": "text/x-python",
   "name": "python",
   "nbconvert_exporter": "python",
   "pygments_lexer": "ipython3",
   "version": "3.13.0"
  }
 },
 "nbformat": 4,
 "nbformat_minor": 5
}
